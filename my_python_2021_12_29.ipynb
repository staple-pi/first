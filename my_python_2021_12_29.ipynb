{
 "cells": [
  {
   "cell_type": "markdown",
   "metadata": {},
   "source": [
    "## Git 常用命令\n",
    "mkdir dir_name  ```创建文件夹```\n",
    "\n",
    "cd dir_name ```进入文件夹```\n",
    "\n",
    "git init ```使用当前目录作为Git仓库，我们只需使它初始化```\n",
    "\n",
    "ls ```显示文件```\n",
    "\n",
    "git add file_name ```加入文件```\n",
    "\n",
    "git add./ ```提交到暂存```\n",
    "\n",
    "git commit -m (message) ```命令将暂存区内容添加到本地仓库中  mesaage指备注信息```\n",
    "\n",
    "git remote add origin --------------------------------(远端地址) ```链接远端```\n",
    "\n",
    "git push -u origin master ```将变动推送到主干master上```\n",
    " \n",
    "git checkout -b 'newbranch_name' ```创建新的分支branch, 同时进入该新branch```\n",
    "\n",
    "git branch -M main ```创建新的branch```"
   ]
  },
  {
   "cell_type": "markdown",
   "metadata": {},
   "source": [
    "[Git远程仓库教程（GitHub)](https://www.runoob.com/git/git-remote-repo.html) "
   ]
  },
  {
   "cell_type": "markdown",
   "metadata": {},
   "source": []
  }
 ],
 "metadata": {
  "kernelspec": {
   "display_name": "Python 3",
   "language": "python",
   "name": "python3"
  },
  "language_info": {
   "codemirror_mode": {
    "name": "ipython",
    "version": 3
   },
   "file_extension": ".py",
   "mimetype": "text/x-python",
   "name": "python",
   "nbconvert_exporter": "python",
   "pygments_lexer": "ipython3",
   "version": "3.7.6"
  }
 },
 "nbformat": 4,
 "nbformat_minor": 4
}
