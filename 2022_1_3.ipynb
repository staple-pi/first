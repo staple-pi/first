{
 "cells": [
  {
   "cell_type": "markdown",
   "metadata": {},
   "source": [
    "# Python Function"
   ]
  },
  {
   "cell_type": "markdown",
   "metadata": {},
   "source": [
    ">def 函数名（参数列表）:\n",
    ">>函数体"
   ]
  },
  {
   "cell_type": "code",
   "execution_count": 1,
   "metadata": {},
   "outputs": [
    {
     "name": "stdout",
     "output_type": "stream",
     "text": [
      "Hello World!\n"
     ]
    }
   ],
   "source": [
    "def hello() :   #无参数\n",
    "    print(\"Hello World!\")\n",
    "\n",
    "hello()"
   ]
  },
  {
   "cell_type": "code",
   "execution_count": 2,
   "metadata": {},
   "outputs": [
    {
     "name": "stdout",
     "output_type": "stream",
     "text": [
      "the first num\n",
      "13\n",
      "the second num\n",
      "24\n",
      "the bigger num is 24.\n"
     ]
    }
   ],
   "source": [
    "def bigger(a, b):   #参数为a和b\n",
    "    if a > b:\n",
    "        return a\n",
    "    else:\n",
    "        return b\n",
    " \n",
    "a = input('the first num\\n')\n",
    "b = input('the second num\\n') \n",
    "print('the bigger num is %s.'%(bigger(a, b)))"
   ]
  },
  {
   "cell_type": "markdown",
   "metadata": {},
   "source": [
    "### 函数参数可以对应指定"
   ]
  },
  {
   "cell_type": "code",
   "execution_count": 10,
   "metadata": {},
   "outputs": [
    {
     "name": "stdout",
     "output_type": "stream",
     "text": [
      "12345678\n",
      "0\n"
     ]
    }
   ],
   "source": [
    "def bigstr(a, b):   #参数为a和b\n",
    "    if len(a) > len(b):\n",
    "        return a\n",
    "    else:\n",
    "        return '0'\n",
    "str1 = '12345678'\n",
    "str2 = '12345' \n",
    "print(bigstr(str1,str2)) \n",
    "print(bigstr(b=str1,a=str2))  #将str1传给参数b str2传给参数a"
   ]
  },
  {
   "cell_type": "code",
   "execution_count": 14,
   "metadata": {},
   "outputs": [
    {
     "name": "stdout",
     "output_type": "stream",
     "text": [
      "12345678\n",
      "0\n"
     ]
    }
   ],
   "source": [
    "def bigstr(a, b='12345'):   # Default value \n",
    "    if len(a) > len(b):\n",
    "        return a\n",
    "    else:\n",
    "        return '0'\n",
    "str1 = '12345678'\n",
    "print(bigstr(str1)) \n",
    "\n",
    "str2 = '123457890' \n",
    "print(bigstr(str1,str2))  # Default value can be overwritten if caller provide a value"
   ]
  },
  {
   "cell_type": "markdown",
   "metadata": {},
   "source": [
    "### Gather Positional Arguments with `*`\n"
   ]
  },
  {
   "cell_type": "code",
   "execution_count": 16,
   "metadata": {},
   "outputs": [
    {
     "name": "stdout",
     "output_type": "stream",
     "text": [
      "Positional args: (1, 2, 3, 'hello')\n"
     ]
    }
   ],
   "source": [
    "def print_args(*args):      #tuple 元组\n",
    "    print('Positional args:', args)\n",
    "\n",
    "print_args(1,2,3,'hello',)"
   ]
  },
  {
   "cell_type": "code",
   "execution_count": 33,
   "metadata": {},
   "outputs": [
    {
     "name": "stdout",
     "output_type": "stream",
     "text": [
      "required arg 1: 1\n",
      "required arg 2: 23\n",
      "All other args: (12, 24, 36)\n",
      "\n",
      "\n",
      "required arg 1: 1\n",
      "required arg 2: 23\n",
      "All other args: ()\n"
     ]
    }
   ],
   "source": [
    "def print_args_with_required(req1, req2, *args):     # *tuple不是必须的，参数是必须的\n",
    "    print('required arg 1:', req1)\n",
    "    print('required arg 2:', req2)\n",
    "    print('All other args:', args)\n",
    "\n",
    "    \n",
    "print_args_with_required(1,23,12,24,36)\n",
    "print('\\n')\n",
    "print_args_with_required(1,23)"
   ]
  },
  {
   "cell_type": "code",
   "execution_count": 34,
   "metadata": {},
   "outputs": [
    {
     "ename": "TypeError",
     "evalue": "print_args_with_required() missing 1 required positional argument: 'req2'",
     "output_type": "error",
     "traceback": [
      "\u001b[1;31m---------------------------------------------------------------------------\u001b[0m",
      "\u001b[1;31mTypeError\u001b[0m                                 Traceback (most recent call last)",
      "\u001b[1;32m<ipython-input-34-72c4fc702bdc>\u001b[0m in \u001b[0;36m<module>\u001b[1;34m\u001b[0m\n\u001b[1;32m----> 1\u001b[1;33m \u001b[0mprint_args_with_required\u001b[0m\u001b[1;33m(\u001b[0m\u001b[1;36m1\u001b[0m\u001b[1;33m)\u001b[0m\u001b[1;33m\u001b[0m\u001b[1;33m\u001b[0m\u001b[0m\n\u001b[0m",
      "\u001b[1;31mTypeError\u001b[0m: print_args_with_required() missing 1 required positional argument: 'req2'"
     ]
    }
   ],
   "source": [
    "print_args_with_required(1)"
   ]
  },
  {
   "cell_type": "markdown",
   "metadata": {},
   "source": [
    "### Gather Keyword Arguments with `**`"
   ]
  },
  {
   "cell_type": "code",
   "execution_count": 29,
   "metadata": {},
   "outputs": [
    {
     "name": "stdout",
     "output_type": "stream",
     "text": [
      "Keyword args: {'first': 1, 'second': 2}\n"
     ]
    }
   ],
   "source": [
    "def print_kwargs(**kwargs):    #dic 字典   name = value\n",
    "    print('Keyword args:', kwargs)\n",
    "    \n",
    "print_kwargs(first = 1,second = 2)"
   ]
  },
  {
   "cell_type": "code",
   "execution_count": 30,
   "metadata": {},
   "outputs": [
    {
     "name": "stdout",
     "output_type": "stream",
     "text": [
      "required arg1: 1\n",
      "Positional args: (2, 3)\n",
      "Keyword args: {'s': 'hello'}\n"
     ]
    }
   ],
   "source": [
    "def print_all_args(req1, *args, **kwargs):\n",
    "    print('required arg1:', req1)\n",
    "    print('Positional args:', args)\n",
    "    print('Keyword args:', kwargs)\n",
    "    \n",
    "print_all_args(1,2,3,s='hello')"
   ]
  },
  {
   "cell_type": "code",
   "execution_count": 35,
   "metadata": {},
   "outputs": [
    {
     "data": {
      "text/plain": [
       "245"
      ]
     },
     "execution_count": 35,
     "metadata": {},
     "output_type": "execute_result"
    }
   ],
   "source": [
    "fun_a = bigger    #可以给函数赋名\n",
    "fun_a(123,245)  "
   ]
  },
  {
   "cell_type": "markdown",
   "metadata": {},
   "source": [
    "### lambda创造匿名函数  简单迅速"
   ]
  },
  {
   "cell_type": "code",
   "execution_count": 2,
   "metadata": {},
   "outputs": [],
   "source": [
    "sum1 = lambda arg1, arg2: arg1 + arg2     #lambda \n",
    "mul = lambda num1, num2: num1 * num2"
   ]
  },
  {
   "cell_type": "code",
   "execution_count": 4,
   "metadata": {},
   "outputs": [
    {
     "name": "stdout",
     "output_type": "stream",
     "text": [
      "7 10\n"
     ]
    }
   ],
   "source": [
    "print(sum1(2,5),mul(2,5))\n"
   ]
  },
  {
   "cell_type": "markdown",
   "metadata": {},
   "source": [
    "### 函数里调用函数"
   ]
  },
  {
   "cell_type": "code",
   "execution_count": 17,
   "metadata": {},
   "outputs": [],
   "source": [
    "def answer1():\n",
    "    print(\"Python is the best computer language!\")\n",
    "    \n",
    "def answer2():\n",
    "    print(\"No! PHP is the best one!\")\n",
    "\n",
    "# A function that takes another function as argument\n",
    "def run_somthing(func):\n",
    "    func()"
   ]
  },
  {
   "cell_type": "code",
   "execution_count": 18,
   "metadata": {},
   "outputs": [
    {
     "name": "stdout",
     "output_type": "stream",
     "text": [
      "Python is the best computer language!\n",
      "No! PHP is the best one!\n"
     ]
    }
   ],
   "source": [
    "run_somthing(answer1)\n",
    "run_somthing(answer2)"
   ]
  },
  {
   "cell_type": "markdown",
   "metadata": {},
   "source": [
    "### 函数里定义函数"
   ]
  },
  {
   "cell_type": "code",
   "execution_count": 26,
   "metadata": {},
   "outputs": [],
   "source": [
    "def exp_factory(n):\n",
    "    def exp(a):\n",
    "        return a ** n\n",
    "    return exp"
   ]
  },
  {
   "cell_type": "code",
   "execution_count": 32,
   "metadata": {},
   "outputs": [
    {
     "data": {
      "text/plain": [
       "function"
      ]
     },
     "execution_count": 32,
     "metadata": {},
     "output_type": "execute_result"
    }
   ],
   "source": [
    "square = exp_factory(5) \n",
    "# square = \n",
    "#def exp(a):\n",
    "#    return a ** 5\n",
    "type(square)"
   ]
  },
  {
   "cell_type": "code",
   "execution_count": 35,
   "metadata": {},
   "outputs": [
    {
     "data": {
      "text/plain": [
       "32"
      ]
     },
     "execution_count": 35,
     "metadata": {},
     "output_type": "execute_result"
    }
   ],
   "source": [
    "square(2)"
   ]
  },
  {
   "cell_type": "markdown",
   "metadata": {},
   "source": [
    "### 异常处理"
   ]
  },
  {
   "cell_type": "markdown",
   "metadata": {},
   "source": [
    "#### try/except 异常捕捉"
   ]
  },
  {
   "cell_type": "code",
   "execution_count": 6,
   "metadata": {
    "scrolled": true
   },
   "outputs": [
    {
     "name": "stdout",
     "output_type": "stream",
     "text": [
      "请输入一个数字: asd\n",
      "您输入的不是数字，请再次尝试输入！\n",
      "请输入一个数字: 12\n"
     ]
    }
   ],
   "source": [
    "while True:\n",
    "    try:\n",
    "        x = int(input(\"请输入一个数字: \"))\n",
    "        break\n",
    "    except ValueError:                #可以是特定错误 ZeroDivisionError Indexerror etc，也可以直接用except所有异常     \n",
    "        print(\"您输入的不是数字，请再次尝试输入！\")"
   ]
  },
  {
   "cell_type": "markdown",
   "metadata": {},
   "source": [
    "#### try/else\n",
    "```python\n",
    "for:\n",
    "    try:\n",
    "    \n",
    "    except:\n",
    "    \n",
    "    else: 没有发生任何异常的时候执行                                            \n",
    "```"
   ]
  },
  {
   "cell_type": "markdown",
   "metadata": {},
   "source": [
    "#### try/finally\n",
    "```python\n",
    "for:\n",
    "    try:\n",
    "    \n",
    "    except:\n",
    "    \n",
    "    else:\n",
    "    \n",
    "    finally:无论如何都会执行的代码\n",
    "```"
   ]
  },
  {
   "cell_type": "markdown",
   "metadata": {},
   "source": [
    "### 用户自定义异常\n",
    "```python\n",
    "class MyError(Exception):\n",
    "    def __init__(self, value):\n",
    "        self.value = value\n",
    "    def __str__(self):\n",
    "        return repr(self.value)\n",
    "```"
   ]
  },
  {
   "cell_type": "markdown",
   "metadata": {},
   "source": [
    "# Code Structure"
   ]
  },
  {
   "cell_type": "code",
   "execution_count": 10,
   "metadata": {},
   "outputs": [
    {
     "name": "stdout",
     "output_type": "stream",
     "text": [
      "Please enter an integer: 123\n",
      "More\n"
     ]
    }
   ],
   "source": [
    "x = int(input(\"Please enter an integer: \"))\n",
    "if x < 0:\n",
    "    x = 0\n",
    "    print('Negative changed to zero')\n",
    "elif x == 0:\n",
    "    print('Zero')\n",
    "elif x == 1:\n",
    "    print('Single')\n",
    "else:\n",
    "    print('More')"
   ]
  },
  {
   "cell_type": "markdown",
   "metadata": {},
   "source": [
    "### Python 没有Switch Case"
   ]
  },
  {
   "cell_type": "code",
   "execution_count": 11,
   "metadata": {},
   "outputs": [],
   "source": [
    "def zero():\n",
    "    print(\"You typed zero.\\n\")\n",
    "\n",
    "def sqr():\n",
    "    print(\"n is a perfect square\\n\")\n",
    "\n",
    "def even():\n",
    "    print(\"n is an even number\\n\")\n",
    "\n",
    "def prime():\n",
    "    print (\"n is a prime number\\n\")\n",
    "\n",
    "options = {0 : zero,\n",
    "           1 : sqr,\n",
    "           4 : sqr,\n",
    "           9 : sqr,\n",
    "           2 : even,\n",
    "           3 : prime,\n",
    "           5 : prime,\n",
    "           7 : prime,}"
   ]
  },
  {
   "cell_type": "code",
   "execution_count": 13,
   "metadata": {},
   "outputs": [
    {
     "name": "stdout",
     "output_type": "stream",
     "text": [
      "n is a perfect square\n",
      "\n"
     ]
    }
   ],
   "source": [
    "options[8]()"
   ]
  },
  {
   "cell_type": "markdown",
   "metadata": {},
   "source": [
    "### Loop\n",
    "```python\n",
    "\n",
    "# while loop\n",
    "while condition:\n",
    "    statements_1\n",
    "else:\n",
    "    statments_2\n",
    "\n",
    "# For loop\n",
    "for item in sequence:\n",
    "    statments_1\n",
    "else:\n",
    "    statments_2\n",
    "```\n"
   ]
  },
  {
   "cell_type": "markdown",
   "metadata": {},
   "source": [
    "### while \n",
    "#### while else"
   ]
  },
  {
   "cell_type": "code",
   "execution_count": 27,
   "metadata": {
    "scrolled": true
   },
   "outputs": [
    {
     "name": "stdout",
     "output_type": "stream",
     "text": [
      "while count: 0\n",
      "while count: 1\n",
      "while count: 2\n",
      "while count: 3\n",
      "while count: 4\n",
      "while count: 5\n",
      "while count: 6\n",
      "while count: 7\n",
      "while count: 8\n",
      "while count: 9\n",
      "while count: 10\n",
      "else: 11\n"
     ]
    }
   ],
   "source": [
    "#如果 while 后面的条件语句为 false 时，则执行 else 的语句块。\n",
    "count=0\n",
    "while count < 11:\n",
    "    print(\"while count:\",count)\n",
    "    count = count + 1\n",
    "    if(count == 12):\n",
    "        break\n",
    "else:   #循环不由break跳出，而是由while后的条件不满足导致退出时，执行else代码\n",
    "    print(\"else:\",count)   "
   ]
  },
  {
   "cell_type": "code",
   "execution_count": 28,
   "metadata": {},
   "outputs": [
    {
     "name": "stdout",
     "output_type": "stream",
     "text": [
      "while count: 0\n",
      "while count: 1\n",
      "while count: 2\n",
      "while count: 3\n",
      "while count: 4\n",
      "while count: 5\n",
      "while count: 6\n",
      "while count: 7\n",
      "while count: 8\n",
      "while count: 9\n"
     ]
    }
   ],
   "source": [
    "count=0\n",
    "while count < 11:\n",
    "    print(\"while count:\",count)\n",
    "    count = count + 1\n",
    "    if(count == 10):\n",
    "        break\n",
    "else:   #循环由break跳出，不执行else代码\n",
    "    print(\"else:\",count)   "
   ]
  },
  {
   "cell_type": "markdown",
   "metadata": {},
   "source": [
    "### For"
   ]
  },
  {
   "cell_type": "code",
   "execution_count": 46,
   "metadata": {},
   "outputs": [
    {
     "name": "stdout",
     "output_type": "stream",
     "text": [
      "0\n",
      "2\n",
      "4\n",
      "6\n",
      "8\n"
     ]
    }
   ],
   "source": [
    "for i in range(0,10,2):   #range(start,end+1,step)\n",
    "    print(i)"
   ]
  },
  {
   "cell_type": "markdown",
   "metadata": {},
   "source": [
    "#### for else"
   ]
  },
  {
   "cell_type": "code",
   "execution_count": 52,
   "metadata": {},
   "outputs": [
    {
     "name": "stdout",
     "output_type": "stream",
     "text": [
      "2\n",
      "6\n",
      "12\n",
      "20\n",
      "here it is 9\n"
     ]
    }
   ],
   "source": [
    "result = 0\n",
    "for num in range(1,10):\n",
    "    if num % 2 == 0:\n",
    "        result = result + num\n",
    "        print(result)\n",
    "#    if num == 9:\n",
    "#        break\n",
    "else:    #系列中没有元素了\n",
    "    print(\"here it is\",num)"
   ]
  },
  {
   "cell_type": "code",
   "execution_count": 72,
   "metadata": {},
   "outputs": [
    {
     "name": "stdout",
     "output_type": "stream",
     "text": [
      "73\n"
     ]
    }
   ],
   "source": [
    "import random   #or from random import randint\n",
    "mystery = randint(1, 100)\n",
    "print(mystery)"
   ]
  },
  {
   "cell_type": "code",
   "execution_count": 77,
   "metadata": {},
   "outputs": [],
   "source": [
    "from collections import deque"
   ]
  },
  {
   "cell_type": "code",
   "execution_count": 80,
   "metadata": {},
   "outputs": [
    {
     "name": "stdout",
     "output_type": "stream",
     "text": [
      "Object `yield` not found.\n"
     ]
    }
   ],
   "source": [
    "?yield"
   ]
  },
  {
   "cell_type": "code",
   "execution_count": null,
   "metadata": {},
   "outputs": [],
   "source": []
  }
 ],
 "metadata": {
  "kernelspec": {
   "display_name": "Python 3",
   "language": "python",
   "name": "python3"
  },
  "language_info": {
   "codemirror_mode": {
    "name": "ipython",
    "version": 3
   },
   "file_extension": ".py",
   "mimetype": "text/x-python",
   "name": "python",
   "nbconvert_exporter": "python",
   "pygments_lexer": "ipython3",
   "version": "3.7.6"
  }
 },
 "nbformat": 4,
 "nbformat_minor": 4
}
